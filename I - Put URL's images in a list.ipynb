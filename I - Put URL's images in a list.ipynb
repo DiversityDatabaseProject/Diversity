{
 "cells": [
  {
   "cell_type": "code",
   "execution_count": null,
   "id": "daf19122",
   "metadata": {},
   "outputs": [],
   "source": [
    "#Put URL's images in a list\n",
    "\n",
    "#Parameters to fill\n",
    "URL_to_query = \"https://www.google.com/search?q=moto&rlz=1C1GCEA_enFR958FR958&source=lnms&tbm=isch&sa=X&ved=2ahUKEwi0_c7mwNnzAhVB5uAKHdfyA40Q_AUoAXoECAIQAw&biw=1366&bih=657&dpr=1\"\n",
    "\n",
    "import requests\n",
    "from bs4 import BeautifulSoup\n",
    "\n",
    "url_conc = str()\n",
    "\n",
    "def getdata(url):\n",
    "    r = requests.get(url)\n",
    "    return r.text\n",
    "\n",
    "htmldata = getdata(URL_to_query)\n",
    "soup = BeautifulSoup(htmldata, 'html.parser')\n",
    "for item in soup.find_all('img'):\n",
    "    url_conc = item['src'] + '||' + url_conc \n",
    "    \n",
    "url_list = url_conc.split('||')"
   ]
  }
 ],
 "metadata": {
  "kernelspec": {
   "display_name": "Python 3 (ipykernel)",
   "language": "python",
   "name": "python3"
  },
  "language_info": {
   "codemirror_mode": {
    "name": "ipython",
    "version": 3
   },
   "file_extension": ".py",
   "mimetype": "text/x-python",
   "name": "python",
   "nbconvert_exporter": "python",
   "pygments_lexer": "ipython3",
   "version": "3.7.11"
  }
 },
 "nbformat": 4,
 "nbformat_minor": 5
}
